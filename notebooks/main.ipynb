{
 "cells": [
  {
   "cell_type": "markdown",
   "id": "562787fe",
   "metadata": {},
   "source": [
    "# Credit Card Fraud Detection ML Pipeline\n",
    "\n",
    "This notebook demonstrates a complete machine learning pipeline for fraud detection using transactional data and custom-built model. The pipeline includes data loading, preprocessing, feature engineering, model training, and evaluation\n",
    "\n",
    "## Project Overview\n",
    "- **Goal**: Build a model that accurately identifies fraudulent credit card transactions\n",
    "- **Dataset**: Kaggle Fraud Detection Dataset with transaction details, merchant information, and user data\n",
    "- **Approach**: Gradient boosting \n",
    "classification with categorical and numerical feature processing"
   ]
  },
  {
   "cell_type": "code",
   "execution_count": 1,
   "id": "167c1c72",
   "metadata": {},
   "outputs": [],
   "source": [
    "import pandas as pd\n",
    "import numpy as np\n",
    "import seaborn as sns\n",
    "import matplotlib.pyplot as plt\n",
    "import sys\n",
    "import os\n",
    "\n",
    "project_root = os.path.abspath(os.path.join(os.getcwd(), \"..\"))\n",
    "sys.path.append(project_root)\n",
    "\n",
    "from src.data.loader import DataLoader\n",
    "from src.data.preprocessor import DataPreprocessor\n",
    "\n",
    "from src.model.model import FraudDetectionModel\n"
   ]
  },
  {
   "cell_type": "markdown",
   "id": "c3569454",
   "metadata": {},
   "source": [
    "## Data Loading\n",
    "\n",
    "Loading the processed training and testing datasets. The data contains credit card transactions with various features including:\n",
    "- Transaction details \n",
    "- Merchant information\n",
    "- Customer demographics\n",
    "- Geographic data"
   ]
  },
  {
   "cell_type": "code",
   "execution_count": 2,
   "id": "a5f2d41c",
   "metadata": {},
   "outputs": [],
   "source": [
    "d = DataLoader(os.path.join(project_root, \"data/processed\"))\n",
    "\n",
    "d.load_data(\"train.csv\", \"test.csv\")\n",
    "train_df = d.train_data\n",
    "test_df = d.test_data"
   ]
  },
  {
   "cell_type": "code",
   "execution_count": 3,
   "id": "4f41225c",
   "metadata": {},
   "outputs": [
    {
     "data": {
      "text/plain": [
       "((296000, 22), (111144, 22))"
      ]
     },
     "execution_count": 3,
     "metadata": {},
     "output_type": "execute_result"
    }
   ],
   "source": [
    "train_df.shape, test_df.shape"
   ]
  },
  {
   "cell_type": "code",
   "execution_count": 4,
   "id": "99b348a0",
   "metadata": {},
   "outputs": [],
   "source": [
    "train_df['trans_date'], train_df['trans_time'] = zip(*train_df['trans_date_trans_time'].apply(lambda x: x.strip().split(' ')))\n",
    "train_df.drop('trans_date_trans_time', axis=1, inplace=True)\n",
    "\n",
    "test_df['trans_date'], test_df['trans_time'] = zip(*test_df['trans_date_trans_time'].apply(lambda x: x.strip().split(' ')))\n",
    "test_df.drop('trans_date_trans_time', axis=1, inplace=True)"
   ]
  },
  {
   "cell_type": "markdown",
   "id": "77362ef5",
   "metadata": {},
   "source": [
    "## Feature Type Detection\n",
    "\n",
    "The following functions help us automatically detect different column types in our dataset:\n",
    "- Numerical features: For amounts, coordinates, population, etc.\n",
    "- Categorical features: For merchant names, categories, etc.\n",
    "- Date/time features: For transaction timing"
   ]
  },
  {
   "cell_type": "code",
   "execution_count": 5,
   "id": "7f42ba9f",
   "metadata": {},
   "outputs": [],
   "source": [
    "def detect_date_columns(df : pd.DataFrame, numerical: list[str]) -> list[str]:\n",
    "    date_columns = []\n",
    "    for col in df.columns:\n",
    "        if col in numerical:\n",
    "            continue\n",
    "        try:\n",
    "            temp_series = pd.to_datetime(df[col], errors=\"coerce\")\n",
    "            if temp_series.notna().any():\n",
    "                date_columns.append(col)\n",
    "        except Exception:\n",
    "            pass\n",
    "    return date_columns\n",
    "\n",
    "def get_column_types(df : pd.DataFrame) -> tuple:\n",
    "    # exclude target column \n",
    "    numerical_columns = df.select_dtypes(include=[\"float64\", \"int64\"]).columns.tolist()\n",
    "    numerical_columns.remove(\"is_fraud\")\n",
    "\n",
    "    # exclude target column\n",
    "    date_columns = detect_date_columns(df.copy(), numerical_columns)\n",
    "    date_columns.remove(\"is_fraud\")\n",
    "\n",
    "    categorical_columns = [\n",
    "        col\n",
    "        for col in df.select_dtypes(include=[\"object\"]).columns\n",
    "        if col not in date_columns\n",
    "    ]\n",
    "\n",
    "    target_col = \"is_fraud\"\n",
    "\n",
    "    return (\n",
    "        numerical_columns,\n",
    "        categorical_columns,\n",
    "        date_columns,\n",
    "        target_col\n",
    "    )"
   ]
  },
  {
   "cell_type": "code",
   "execution_count": 6,
   "id": "b8e2e1ae",
   "metadata": {},
   "outputs": [
    {
     "name": "stderr",
     "output_type": "stream",
     "text": [
      "/var/folders/1m/mv4prtn17kd55ys3sg9lwtp00000gq/T/ipykernel_9611/1232741884.py:7: UserWarning: Could not infer format, so each element will be parsed individually, falling back to `dateutil`. To ensure parsing is consistent and as-expected, please specify a format.\n",
      "  temp_series = pd.to_datetime(df[col], errors=\"coerce\")\n",
      "/var/folders/1m/mv4prtn17kd55ys3sg9lwtp00000gq/T/ipykernel_9611/1232741884.py:7: UserWarning: Could not infer format, so each element will be parsed individually, falling back to `dateutil`. To ensure parsing is consistent and as-expected, please specify a format.\n",
      "  temp_series = pd.to_datetime(df[col], errors=\"coerce\")\n",
      "/var/folders/1m/mv4prtn17kd55ys3sg9lwtp00000gq/T/ipykernel_9611/1232741884.py:7: UserWarning: Could not infer format, so each element will be parsed individually, falling back to `dateutil`. To ensure parsing is consistent and as-expected, please specify a format.\n",
      "  temp_series = pd.to_datetime(df[col], errors=\"coerce\")\n",
      "/var/folders/1m/mv4prtn17kd55ys3sg9lwtp00000gq/T/ipykernel_9611/1232741884.py:7: UserWarning: Could not infer format, so each element will be parsed individually, falling back to `dateutil`. To ensure parsing is consistent and as-expected, please specify a format.\n",
      "  temp_series = pd.to_datetime(df[col], errors=\"coerce\")\n",
      "/var/folders/1m/mv4prtn17kd55ys3sg9lwtp00000gq/T/ipykernel_9611/1232741884.py:7: UserWarning: Could not infer format, so each element will be parsed individually, falling back to `dateutil`. To ensure parsing is consistent and as-expected, please specify a format.\n",
      "  temp_series = pd.to_datetime(df[col], errors=\"coerce\")\n",
      "/var/folders/1m/mv4prtn17kd55ys3sg9lwtp00000gq/T/ipykernel_9611/1232741884.py:7: UserWarning: Could not infer format, so each element will be parsed individually, falling back to `dateutil`. To ensure parsing is consistent and as-expected, please specify a format.\n",
      "  temp_series = pd.to_datetime(df[col], errors=\"coerce\")\n",
      "/var/folders/1m/mv4prtn17kd55ys3sg9lwtp00000gq/T/ipykernel_9611/1232741884.py:7: UserWarning: Could not infer format, so each element will be parsed individually, falling back to `dateutil`. To ensure parsing is consistent and as-expected, please specify a format.\n",
      "  temp_series = pd.to_datetime(df[col], errors=\"coerce\")\n",
      "/var/folders/1m/mv4prtn17kd55ys3sg9lwtp00000gq/T/ipykernel_9611/1232741884.py:7: UserWarning: Could not infer format, so each element will be parsed individually, falling back to `dateutil`. To ensure parsing is consistent and as-expected, please specify a format.\n",
      "  temp_series = pd.to_datetime(df[col], errors=\"coerce\")\n",
      "/var/folders/1m/mv4prtn17kd55ys3sg9lwtp00000gq/T/ipykernel_9611/1232741884.py:7: UserWarning: Could not infer format, so each element will be parsed individually, falling back to `dateutil`. To ensure parsing is consistent and as-expected, please specify a format.\n",
      "  temp_series = pd.to_datetime(df[col], errors=\"coerce\")\n",
      "/var/folders/1m/mv4prtn17kd55ys3sg9lwtp00000gq/T/ipykernel_9611/1232741884.py:7: UserWarning: Could not infer format, so each element will be parsed individually, falling back to `dateutil`. To ensure parsing is consistent and as-expected, please specify a format.\n",
      "  temp_series = pd.to_datetime(df[col], errors=\"coerce\")\n",
      "/var/folders/1m/mv4prtn17kd55ys3sg9lwtp00000gq/T/ipykernel_9611/1232741884.py:7: UserWarning: Could not infer format, so each element will be parsed individually, falling back to `dateutil`. To ensure parsing is consistent and as-expected, please specify a format.\n",
      "  temp_series = pd.to_datetime(df[col], errors=\"coerce\")\n",
      "/var/folders/1m/mv4prtn17kd55ys3sg9lwtp00000gq/T/ipykernel_9611/1232741884.py:7: UserWarning: Could not infer format, so each element will be parsed individually, falling back to `dateutil`. To ensure parsing is consistent and as-expected, please specify a format.\n",
      "  temp_series = pd.to_datetime(df[col], errors=\"coerce\")\n",
      "/var/folders/1m/mv4prtn17kd55ys3sg9lwtp00000gq/T/ipykernel_9611/1232741884.py:7: UserWarning: Could not infer format, so each element will be parsed individually, falling back to `dateutil`. To ensure parsing is consistent and as-expected, please specify a format.\n",
      "  temp_series = pd.to_datetime(df[col], errors=\"coerce\")\n",
      "/var/folders/1m/mv4prtn17kd55ys3sg9lwtp00000gq/T/ipykernel_9611/1232741884.py:7: UserWarning: Could not infer format, so each element will be parsed individually, falling back to `dateutil`. To ensure parsing is consistent and as-expected, please specify a format.\n",
      "  temp_series = pd.to_datetime(df[col], errors=\"coerce\")\n",
      "/var/folders/1m/mv4prtn17kd55ys3sg9lwtp00000gq/T/ipykernel_9611/1232741884.py:7: UserWarning: Could not infer format, so each element will be parsed individually, falling back to `dateutil`. To ensure parsing is consistent and as-expected, please specify a format.\n",
      "  temp_series = pd.to_datetime(df[col], errors=\"coerce\")\n",
      "/var/folders/1m/mv4prtn17kd55ys3sg9lwtp00000gq/T/ipykernel_9611/1232741884.py:7: UserWarning: Could not infer format, so each element will be parsed individually, falling back to `dateutil`. To ensure parsing is consistent and as-expected, please specify a format.\n",
      "  temp_series = pd.to_datetime(df[col], errors=\"coerce\")\n",
      "/var/folders/1m/mv4prtn17kd55ys3sg9lwtp00000gq/T/ipykernel_9611/1232741884.py:7: UserWarning: Could not infer format, so each element will be parsed individually, falling back to `dateutil`. To ensure parsing is consistent and as-expected, please specify a format.\n",
      "  temp_series = pd.to_datetime(df[col], errors=\"coerce\")\n",
      "/var/folders/1m/mv4prtn17kd55ys3sg9lwtp00000gq/T/ipykernel_9611/1232741884.py:7: UserWarning: Could not infer format, so each element will be parsed individually, falling back to `dateutil`. To ensure parsing is consistent and as-expected, please specify a format.\n",
      "  temp_series = pd.to_datetime(df[col], errors=\"coerce\")\n",
      "/var/folders/1m/mv4prtn17kd55ys3sg9lwtp00000gq/T/ipykernel_9611/1232741884.py:7: UserWarning: Could not infer format, so each element will be parsed individually, falling back to `dateutil`. To ensure parsing is consistent and as-expected, please specify a format.\n",
      "  temp_series = pd.to_datetime(df[col], errors=\"coerce\")\n",
      "/var/folders/1m/mv4prtn17kd55ys3sg9lwtp00000gq/T/ipykernel_9611/1232741884.py:7: UserWarning: Could not infer format, so each element will be parsed individually, falling back to `dateutil`. To ensure parsing is consistent and as-expected, please specify a format.\n",
      "  temp_series = pd.to_datetime(df[col], errors=\"coerce\")\n",
      "/var/folders/1m/mv4prtn17kd55ys3sg9lwtp00000gq/T/ipykernel_9611/1232741884.py:7: UserWarning: Could not infer format, so each element will be parsed individually, falling back to `dateutil`. To ensure parsing is consistent and as-expected, please specify a format.\n",
      "  temp_series = pd.to_datetime(df[col], errors=\"coerce\")\n",
      "/var/folders/1m/mv4prtn17kd55ys3sg9lwtp00000gq/T/ipykernel_9611/1232741884.py:7: UserWarning: Could not infer format, so each element will be parsed individually, falling back to `dateutil`. To ensure parsing is consistent and as-expected, please specify a format.\n",
      "  temp_series = pd.to_datetime(df[col], errors=\"coerce\")\n"
     ]
    }
   ],
   "source": [
    "train_numerical_columns, train_categorical_columns, train_date_columns, train_target_col = get_column_types(train_df)\n",
    "test_numerical_columns, test_categorical_columns, test_date_columns, test_target_col = get_column_types(test_df)"
   ]
  },
  {
   "cell_type": "code",
   "execution_count": 7,
   "id": "3d80e119",
   "metadata": {},
   "outputs": [
    {
     "data": {
      "text/plain": [
       "(['cc_num',\n",
       "  'amt',\n",
       "  'zip',\n",
       "  'lat',\n",
       "  'long',\n",
       "  'city_pop',\n",
       "  'unix_time',\n",
       "  'merch_lat',\n",
       "  'merch_long'],\n",
       " ['merchant',\n",
       "  'category',\n",
       "  'first',\n",
       "  'last',\n",
       "  'gender',\n",
       "  'street',\n",
       "  'city',\n",
       "  'state',\n",
       "  'job',\n",
       "  'trans_num'],\n",
       " ['dob', 'trans_date', 'trans_time'],\n",
       " 'is_fraud')"
      ]
     },
     "execution_count": 7,
     "metadata": {},
     "output_type": "execute_result"
    }
   ],
   "source": [
    "test_numerical_columns, test_categorical_columns, test_date_columns, test_target_col"
   ]
  },
  {
   "cell_type": "code",
   "execution_count": 8,
   "id": "4d6cec04",
   "metadata": {},
   "outputs": [
    {
     "data": {
      "text/plain": [
       "(True, True, True, True)"
      ]
     },
     "execution_count": 8,
     "metadata": {},
     "output_type": "execute_result"
    }
   ],
   "source": [
    "train_numerical_columns == test_numerical_columns, \\\n",
    "    train_categorical_columns == test_categorical_columns, \\\n",
    "    train_date_columns == test_date_columns, \\\n",
    "    train_target_col == test_target_col"
   ]
  },
  {
   "cell_type": "markdown",
   "id": "5f0ea807",
   "metadata": {},
   "source": [
    "<h5>\n",
    "The feature sets in the training and test datasets are identical\n",
    "</h5>"
   ]
  },
  {
   "cell_type": "code",
   "execution_count": 9,
   "id": "88640833",
   "metadata": {},
   "outputs": [],
   "source": [
    "from sklearn.model_selection import train_test_split\n",
    "\n",
    "train = train_df.copy()\n",
    "val, test = train_test_split(\n",
    "    test_df,\n",
    "    test_size=0.8,\n",
    "    stratify=test_df[train_target_col],\n",
    "    random_state=42,\n",
    ")"
   ]
  },
  {
   "cell_type": "code",
   "execution_count": 10,
   "id": "5e9c2919",
   "metadata": {},
   "outputs": [
    {
     "data": {
      "text/plain": [
       "((296000, 23), (22228, 23), (88916, 23))"
      ]
     },
     "execution_count": 10,
     "metadata": {},
     "output_type": "execute_result"
    }
   ],
   "source": [
    "train.shape, val.shape, test.shape"
   ]
  },
  {
   "cell_type": "markdown",
   "id": "267fdc85",
   "metadata": {},
   "source": [
    "## Feature Preprocessing\n",
    "\n",
    "Now we'll apply our preprocessor to transform raw data into ML-ready features:\n",
    "- Encoding categorical variables\n",
    "- Scaling numerical features\n",
    "- Extracting time-based features from dates"
   ]
  },
  {
   "cell_type": "code",
   "execution_count": 11,
   "id": "f796f5c8",
   "metadata": {},
   "outputs": [
    {
     "name": "stderr",
     "output_type": "stream",
     "text": [
      "/Users/oleh.kravchenko/fraud-detection-ML-pipeline/src/data/preprocessor.py:92: UserWarning: Could not infer format, so each element will be parsed individually, falling back to `dateutil`. To ensure parsing is consistent and as-expected, please specify a format.\n",
      "  df[col] = pd.to_datetime(df[col])\n"
     ]
    }
   ],
   "source": [
    "p = DataPreprocessor(train_categorical_columns, train_numerical_columns, 'is_fraud', train_date_columns)\n",
    "\n",
    "p = p.fit(train)"
   ]
  },
  {
   "cell_type": "code",
   "execution_count": 12,
   "id": "14f6e419",
   "metadata": {},
   "outputs": [
    {
     "data": {
      "text/html": [
       "<div>\n",
       "<style scoped>\n",
       "    .dataframe tbody tr th:only-of-type {\n",
       "        vertical-align: middle;\n",
       "    }\n",
       "\n",
       "    .dataframe tbody tr th {\n",
       "        vertical-align: top;\n",
       "    }\n",
       "\n",
       "    .dataframe thead th {\n",
       "        text-align: right;\n",
       "    }\n",
       "</style>\n",
       "<table border=\"1\" class=\"dataframe\">\n",
       "  <thead>\n",
       "    <tr style=\"text-align: right;\">\n",
       "      <th></th>\n",
       "      <th>cc_num</th>\n",
       "      <th>merchant</th>\n",
       "      <th>category</th>\n",
       "      <th>amt</th>\n",
       "      <th>first</th>\n",
       "      <th>last</th>\n",
       "      <th>gender</th>\n",
       "      <th>street</th>\n",
       "      <th>city</th>\n",
       "      <th>state</th>\n",
       "      <th>...</th>\n",
       "      <th>city_pop</th>\n",
       "      <th>job</th>\n",
       "      <th>dob</th>\n",
       "      <th>trans_num</th>\n",
       "      <th>unix_time</th>\n",
       "      <th>merch_lat</th>\n",
       "      <th>merch_long</th>\n",
       "      <th>is_fraud</th>\n",
       "      <th>trans_date</th>\n",
       "      <th>trans_time</th>\n",
       "    </tr>\n",
       "  </thead>\n",
       "  <tbody>\n",
       "    <tr>\n",
       "      <th>21690</th>\n",
       "      <td>3559160581764413</td>\n",
       "      <td>fraud_Casper, Hand and Zulauf</td>\n",
       "      <td>grocery_pos</td>\n",
       "      <td>96.73</td>\n",
       "      <td>Allen</td>\n",
       "      <td>Bell</td>\n",
       "      <td>M</td>\n",
       "      <td>70147 Amanda Fields</td>\n",
       "      <td>Saint Bonaventure</td>\n",
       "      <td>NY</td>\n",
       "      <td>...</td>\n",
       "      <td>1453</td>\n",
       "      <td>Toxicologist</td>\n",
       "      <td>1974-02-15</td>\n",
       "      <td>0e86754789102044ac3a9291497e8d7b</td>\n",
       "      <td>1372755903</td>\n",
       "      <td>43.070331</td>\n",
       "      <td>-77.817824</td>\n",
       "      <td>0</td>\n",
       "      <td>2020-07-02</td>\n",
       "      <td>09:05:03</td>\n",
       "    </tr>\n",
       "    <tr>\n",
       "      <th>109604</th>\n",
       "      <td>213193596103206</td>\n",
       "      <td>fraud_Kuhic LLC</td>\n",
       "      <td>shopping_net</td>\n",
       "      <td>88.10</td>\n",
       "      <td>James</td>\n",
       "      <td>Hunt</td>\n",
       "      <td>M</td>\n",
       "      <td>7369 Gabriel Tunnel</td>\n",
       "      <td>Pointe Aux Pins</td>\n",
       "      <td>MI</td>\n",
       "      <td>...</td>\n",
       "      <td>95</td>\n",
       "      <td>Electrical engineer</td>\n",
       "      <td>1994-02-09</td>\n",
       "      <td>a80e97a6f53c51792c9f523d081c4f6a</td>\n",
       "      <td>1380088448</td>\n",
       "      <td>45.328339</td>\n",
       "      <td>-83.752631</td>\n",
       "      <td>0</td>\n",
       "      <td>2020-09-25</td>\n",
       "      <td>05:54:08</td>\n",
       "    </tr>\n",
       "    <tr>\n",
       "      <th>101413</th>\n",
       "      <td>4292743669224718067</td>\n",
       "      <td>fraud_Eichmann-Kilback</td>\n",
       "      <td>home</td>\n",
       "      <td>34.86</td>\n",
       "      <td>Michael</td>\n",
       "      <td>Williams</td>\n",
       "      <td>M</td>\n",
       "      <td>35822 Clayton Street Apt. 679</td>\n",
       "      <td>Great Mills</td>\n",
       "      <td>MD</td>\n",
       "      <td>...</td>\n",
       "      <td>5927</td>\n",
       "      <td>Art therapist</td>\n",
       "      <td>1973-06-09</td>\n",
       "      <td>ccc7b1a59318807bfd3d06904f735d90</td>\n",
       "      <td>1373824923</td>\n",
       "      <td>37.509716</td>\n",
       "      <td>-76.241005</td>\n",
       "      <td>0</td>\n",
       "      <td>2020-07-14</td>\n",
       "      <td>18:02:03</td>\n",
       "    </tr>\n",
       "    <tr>\n",
       "      <th>13127</th>\n",
       "      <td>4658490815480264</td>\n",
       "      <td>fraud_Metz-Boehm</td>\n",
       "      <td>shopping_pos</td>\n",
       "      <td>2.25</td>\n",
       "      <td>Tara</td>\n",
       "      <td>Richards</td>\n",
       "      <td>F</td>\n",
       "      <td>4879 Cristina Station</td>\n",
       "      <td>Keisterville</td>\n",
       "      <td>PA</td>\n",
       "      <td>...</td>\n",
       "      <td>184</td>\n",
       "      <td>Systems developer</td>\n",
       "      <td>1945-11-04</td>\n",
       "      <td>7cba6e1f3cf4b2c7baa0cdd85c5d7ce6</td>\n",
       "      <td>1383364819</td>\n",
       "      <td>40.774376</td>\n",
       "      <td>-78.817336</td>\n",
       "      <td>0</td>\n",
       "      <td>2020-11-02</td>\n",
       "      <td>04:00:19</td>\n",
       "    </tr>\n",
       "    <tr>\n",
       "      <th>15370</th>\n",
       "      <td>6011860238257910</td>\n",
       "      <td>fraud_Greenholt, Jacobi and Gleason</td>\n",
       "      <td>gas_transport</td>\n",
       "      <td>51.51</td>\n",
       "      <td>Lisa</td>\n",
       "      <td>Mendez</td>\n",
       "      <td>F</td>\n",
       "      <td>44259 Beth Station Suite 215</td>\n",
       "      <td>Lahoma</td>\n",
       "      <td>OK</td>\n",
       "      <td>...</td>\n",
       "      <td>1078</td>\n",
       "      <td>Programme researcher, broadcasting/film/video</td>\n",
       "      <td>1952-07-06</td>\n",
       "      <td>c4560223b88b007003a76ce471cdae23</td>\n",
       "      <td>1373607740</td>\n",
       "      <td>35.816957</td>\n",
       "      <td>-97.976276</td>\n",
       "      <td>0</td>\n",
       "      <td>2020-07-12</td>\n",
       "      <td>05:42:20</td>\n",
       "    </tr>\n",
       "    <tr>\n",
       "      <th>...</th>\n",
       "      <td>...</td>\n",
       "      <td>...</td>\n",
       "      <td>...</td>\n",
       "      <td>...</td>\n",
       "      <td>...</td>\n",
       "      <td>...</td>\n",
       "      <td>...</td>\n",
       "      <td>...</td>\n",
       "      <td>...</td>\n",
       "      <td>...</td>\n",
       "      <td>...</td>\n",
       "      <td>...</td>\n",
       "      <td>...</td>\n",
       "      <td>...</td>\n",
       "      <td>...</td>\n",
       "      <td>...</td>\n",
       "      <td>...</td>\n",
       "      <td>...</td>\n",
       "      <td>...</td>\n",
       "      <td>...</td>\n",
       "      <td>...</td>\n",
       "    </tr>\n",
       "    <tr>\n",
       "      <th>108302</th>\n",
       "      <td>4128730454058057622</td>\n",
       "      <td>fraud_Conroy, Balistreri and Gorczany</td>\n",
       "      <td>health_fitness</td>\n",
       "      <td>27.61</td>\n",
       "      <td>Monique</td>\n",
       "      <td>Martin</td>\n",
       "      <td>F</td>\n",
       "      <td>68276 Matthew Springs</td>\n",
       "      <td>Ratcliff</td>\n",
       "      <td>TX</td>\n",
       "      <td>...</td>\n",
       "      <td>43</td>\n",
       "      <td>Engineer, production</td>\n",
       "      <td>1949-10-04</td>\n",
       "      <td>251057432c545b06e2ca23276495cc16</td>\n",
       "      <td>1375543198</td>\n",
       "      <td>31.454164</td>\n",
       "      <td>-94.966471</td>\n",
       "      <td>0</td>\n",
       "      <td>2020-08-03</td>\n",
       "      <td>15:19:58</td>\n",
       "    </tr>\n",
       "    <tr>\n",
       "      <th>5060</th>\n",
       "      <td>343819048608995</td>\n",
       "      <td>fraud_Bode-Rempel</td>\n",
       "      <td>kids_pets</td>\n",
       "      <td>33.56</td>\n",
       "      <td>Shelby</td>\n",
       "      <td>Cannon</td>\n",
       "      <td>F</td>\n",
       "      <td>1535 Ryan Burgs Suite 919</td>\n",
       "      <td>Des Moines</td>\n",
       "      <td>IA</td>\n",
       "      <td>...</td>\n",
       "      <td>222785</td>\n",
       "      <td>Wellsite geologist</td>\n",
       "      <td>1956-01-24</td>\n",
       "      <td>66af34ef8cbc92863391213534f3f01e</td>\n",
       "      <td>1373327706</td>\n",
       "      <td>41.625498</td>\n",
       "      <td>-92.814804</td>\n",
       "      <td>0</td>\n",
       "      <td>2020-07-08</td>\n",
       "      <td>23:55:06</td>\n",
       "    </tr>\n",
       "    <tr>\n",
       "      <th>40812</th>\n",
       "      <td>3559679414981506</td>\n",
       "      <td>fraud_Hills-Witting</td>\n",
       "      <td>shopping_net</td>\n",
       "      <td>27.72</td>\n",
       "      <td>Olivia</td>\n",
       "      <td>Stephenson</td>\n",
       "      <td>F</td>\n",
       "      <td>292 Cassidy Oval</td>\n",
       "      <td>Lowville</td>\n",
       "      <td>NY</td>\n",
       "      <td>...</td>\n",
       "      <td>8830</td>\n",
       "      <td>Theme park manager</td>\n",
       "      <td>1991-03-29</td>\n",
       "      <td>6a8cd6e5f23639a69ad2938e69e9a0cf</td>\n",
       "      <td>1384558310</td>\n",
       "      <td>43.733475</td>\n",
       "      <td>-74.642072</td>\n",
       "      <td>0</td>\n",
       "      <td>2020-11-15</td>\n",
       "      <td>23:31:50</td>\n",
       "    </tr>\n",
       "    <tr>\n",
       "      <th>75958</th>\n",
       "      <td>213163860545705</td>\n",
       "      <td>fraud_Lang, Towne and Schuppe</td>\n",
       "      <td>kids_pets</td>\n",
       "      <td>49.26</td>\n",
       "      <td>Mark</td>\n",
       "      <td>Tyler</td>\n",
       "      <td>M</td>\n",
       "      <td>82201 Bradley Radial Suite 703</td>\n",
       "      <td>Avera</td>\n",
       "      <td>GA</td>\n",
       "      <td>...</td>\n",
       "      <td>741</td>\n",
       "      <td>Claims inspector/assessor</td>\n",
       "      <td>1986-04-28</td>\n",
       "      <td>0edf370d1276f38cc65a085b88a2b3be</td>\n",
       "      <td>1373994465</td>\n",
       "      <td>32.623455</td>\n",
       "      <td>-83.179778</td>\n",
       "      <td>0</td>\n",
       "      <td>2020-07-16</td>\n",
       "      <td>17:07:45</td>\n",
       "    </tr>\n",
       "    <tr>\n",
       "      <th>106785</th>\n",
       "      <td>4646845581490336108</td>\n",
       "      <td>fraud_Pacocha-Weissnat</td>\n",
       "      <td>kids_pets</td>\n",
       "      <td>91.52</td>\n",
       "      <td>Julia</td>\n",
       "      <td>Bell</td>\n",
       "      <td>F</td>\n",
       "      <td>576 House Crossroad</td>\n",
       "      <td>West Sayville</td>\n",
       "      <td>NY</td>\n",
       "      <td>...</td>\n",
       "      <td>4056</td>\n",
       "      <td>Film/video editor</td>\n",
       "      <td>1990-06-25</td>\n",
       "      <td>0a0c7cc3a3968a98e699b2df66d66cb2</td>\n",
       "      <td>1378680406</td>\n",
       "      <td>41.545233</td>\n",
       "      <td>-72.335508</td>\n",
       "      <td>0</td>\n",
       "      <td>2020-09-08</td>\n",
       "      <td>22:46:46</td>\n",
       "    </tr>\n",
       "  </tbody>\n",
       "</table>\n",
       "<p>22228 rows × 23 columns</p>\n",
       "</div>"
      ],
      "text/plain": [
       "                     cc_num                               merchant  \\\n",
       "21690      3559160581764413          fraud_Casper, Hand and Zulauf   \n",
       "109604      213193596103206                        fraud_Kuhic LLC   \n",
       "101413  4292743669224718067                 fraud_Eichmann-Kilback   \n",
       "13127      4658490815480264                       fraud_Metz-Boehm   \n",
       "15370      6011860238257910    fraud_Greenholt, Jacobi and Gleason   \n",
       "...                     ...                                    ...   \n",
       "108302  4128730454058057622  fraud_Conroy, Balistreri and Gorczany   \n",
       "5060        343819048608995                      fraud_Bode-Rempel   \n",
       "40812      3559679414981506                    fraud_Hills-Witting   \n",
       "75958       213163860545705          fraud_Lang, Towne and Schuppe   \n",
       "106785  4646845581490336108                 fraud_Pacocha-Weissnat   \n",
       "\n",
       "              category    amt    first        last gender  \\\n",
       "21690      grocery_pos  96.73    Allen        Bell      M   \n",
       "109604    shopping_net  88.10    James        Hunt      M   \n",
       "101413            home  34.86  Michael    Williams      M   \n",
       "13127     shopping_pos   2.25     Tara    Richards      F   \n",
       "15370    gas_transport  51.51     Lisa      Mendez      F   \n",
       "...                ...    ...      ...         ...    ...   \n",
       "108302  health_fitness  27.61  Monique      Martin      F   \n",
       "5060         kids_pets  33.56   Shelby      Cannon      F   \n",
       "40812     shopping_net  27.72   Olivia  Stephenson      F   \n",
       "75958        kids_pets  49.26     Mark       Tyler      M   \n",
       "106785       kids_pets  91.52    Julia        Bell      F   \n",
       "\n",
       "                                street               city state  ...  \\\n",
       "21690              70147 Amanda Fields  Saint Bonaventure    NY  ...   \n",
       "109604             7369 Gabriel Tunnel    Pointe Aux Pins    MI  ...   \n",
       "101413   35822 Clayton Street Apt. 679        Great Mills    MD  ...   \n",
       "13127            4879 Cristina Station       Keisterville    PA  ...   \n",
       "15370     44259 Beth Station Suite 215             Lahoma    OK  ...   \n",
       "...                                ...                ...   ...  ...   \n",
       "108302           68276 Matthew Springs           Ratcliff    TX  ...   \n",
       "5060         1535 Ryan Burgs Suite 919         Des Moines    IA  ...   \n",
       "40812                 292 Cassidy Oval           Lowville    NY  ...   \n",
       "75958   82201 Bradley Radial Suite 703              Avera    GA  ...   \n",
       "106785             576 House Crossroad      West Sayville    NY  ...   \n",
       "\n",
       "        city_pop                                            job         dob  \\\n",
       "21690       1453                                   Toxicologist  1974-02-15   \n",
       "109604        95                            Electrical engineer  1994-02-09   \n",
       "101413      5927                                  Art therapist  1973-06-09   \n",
       "13127        184                              Systems developer  1945-11-04   \n",
       "15370       1078  Programme researcher, broadcasting/film/video  1952-07-06   \n",
       "...          ...                                            ...         ...   \n",
       "108302        43                           Engineer, production  1949-10-04   \n",
       "5060      222785                             Wellsite geologist  1956-01-24   \n",
       "40812       8830                             Theme park manager  1991-03-29   \n",
       "75958        741                      Claims inspector/assessor  1986-04-28   \n",
       "106785      4056                              Film/video editor  1990-06-25   \n",
       "\n",
       "                               trans_num   unix_time  merch_lat merch_long  \\\n",
       "21690   0e86754789102044ac3a9291497e8d7b  1372755903  43.070331 -77.817824   \n",
       "109604  a80e97a6f53c51792c9f523d081c4f6a  1380088448  45.328339 -83.752631   \n",
       "101413  ccc7b1a59318807bfd3d06904f735d90  1373824923  37.509716 -76.241005   \n",
       "13127   7cba6e1f3cf4b2c7baa0cdd85c5d7ce6  1383364819  40.774376 -78.817336   \n",
       "15370   c4560223b88b007003a76ce471cdae23  1373607740  35.816957 -97.976276   \n",
       "...                                  ...         ...        ...        ...   \n",
       "108302  251057432c545b06e2ca23276495cc16  1375543198  31.454164 -94.966471   \n",
       "5060    66af34ef8cbc92863391213534f3f01e  1373327706  41.625498 -92.814804   \n",
       "40812   6a8cd6e5f23639a69ad2938e69e9a0cf  1384558310  43.733475 -74.642072   \n",
       "75958   0edf370d1276f38cc65a085b88a2b3be  1373994465  32.623455 -83.179778   \n",
       "106785  0a0c7cc3a3968a98e699b2df66d66cb2  1378680406  41.545233 -72.335508   \n",
       "\n",
       "        is_fraud  trans_date  trans_time  \n",
       "21690          0  2020-07-02    09:05:03  \n",
       "109604         0  2020-09-25    05:54:08  \n",
       "101413         0  2020-07-14    18:02:03  \n",
       "13127          0  2020-11-02    04:00:19  \n",
       "15370          0  2020-07-12    05:42:20  \n",
       "...          ...         ...         ...  \n",
       "108302         0  2020-08-03    15:19:58  \n",
       "5060           0  2020-07-08    23:55:06  \n",
       "40812          0  2020-11-15    23:31:50  \n",
       "75958          0  2020-07-16    17:07:45  \n",
       "106785         0  2020-09-08    22:46:46  \n",
       "\n",
       "[22228 rows x 23 columns]"
      ]
     },
     "execution_count": 12,
     "metadata": {},
     "output_type": "execute_result"
    }
   ],
   "source": [
    "val"
   ]
  },
  {
   "cell_type": "code",
   "execution_count": 13,
   "id": "0107d952",
   "metadata": {},
   "outputs": [
    {
     "name": "stderr",
     "output_type": "stream",
     "text": [
      "/Users/oleh.kravchenko/fraud-detection-ML-pipeline/src/data/preprocessor.py:92: UserWarning: Could not infer format, so each element will be parsed individually, falling back to `dateutil`. To ensure parsing is consistent and as-expected, please specify a format.\n",
      "  df[col] = pd.to_datetime(df[col])\n",
      "/Users/oleh.kravchenko/fraud-detection-ML-pipeline/src/data/preprocessor.py:92: UserWarning: Could not infer format, so each element will be parsed individually, falling back to `dateutil`. To ensure parsing is consistent and as-expected, please specify a format.\n",
      "  df[col] = pd.to_datetime(df[col])\n",
      "/Users/oleh.kravchenko/fraud-detection-ML-pipeline/src/data/preprocessor.py:92: UserWarning: Could not infer format, so each element will be parsed individually, falling back to `dateutil`. To ensure parsing is consistent and as-expected, please specify a format.\n",
      "  df[col] = pd.to_datetime(df[col])\n"
     ]
    },
    {
     "data": {
      "text/plain": [
       "((296000, 18), (296000,), (22228, 18), (22228,), (88916, 18), (88916,))"
      ]
     },
     "execution_count": 13,
     "metadata": {},
     "output_type": "execute_result"
    }
   ],
   "source": [
    "X, y = p.transform(train)\n",
    "X_val, y_val = p.transform(val)\n",
    "X_test, y_test = p.transform(test)\n",
    "X.shape, y.shape, X_val.shape, y_val.shape, X_test.shape, y_test.shape"
   ]
  },
  {
   "cell_type": "markdown",
   "id": "20cfcdf0",
   "metadata": {},
   "source": [
    "## Model Training\n",
    "\n",
    "We'll use a gradient boosting model for fraud detection. This model works well with tabular data and can capture complex patterns in transactional data"
   ]
  },
  {
   "cell_type": "code",
   "execution_count": 14,
   "id": "cc0f6d07",
   "metadata": {},
   "outputs": [
    {
     "name": "stderr",
     "output_type": "stream",
     "text": [
      "/Users/oleh.kravchenko/fraud-detection-ML-pipeline/src/model/model.py:123: RuntimeWarning: overflow encountered in exp\n",
      "  return 1 / (1 + np.exp(-x))\n",
      "2025-04-20 00:01:09,761 - model - INFO - Training step completed. Average loss: 0.6940\n",
      "2025-04-20 00:01:09,862 - model - INFO - Evaluation completed. Accuracy: 0.9962, Correct: 22143, Total: 22228\n"
     ]
    }
   ],
   "source": [
    "fd = FraudDetectionModel(\n",
    "    X.shape[1],\n",
    ")\n",
    "\n",
    "y = np.array(y).astype(np.float64)\n",
    "\n",
    "fd.train(X, y)\n",
    "acc_val = fd.evaluate(X_val, y_val)\n"
   ]
  },
  {
   "cell_type": "code",
   "execution_count": 15,
   "id": "2623eb29",
   "metadata": {},
   "outputs": [
    {
     "name": "stderr",
     "output_type": "stream",
     "text": [
      "2025-04-20 00:01:10,262 - model - INFO - Evaluation completed. Accuracy: 0.9962, Correct: 88575, Total: 88916\n"
     ]
    }
   ],
   "source": [
    "acc_test = fd.evaluate(X_test, y_test)"
   ]
  },
  {
   "cell_type": "code",
   "execution_count": 16,
   "id": "77fee947",
   "metadata": {},
   "outputs": [
    {
     "data": {
      "text/plain": [
       "(0.9961759942414972, 0.9961649196994916)"
      ]
     },
     "execution_count": 16,
     "metadata": {},
     "output_type": "execute_result"
    }
   ],
   "source": [
    "acc_val['accuracy'], acc_test['accuracy']"
   ]
  },
  {
   "cell_type": "markdown",
   "id": "5071315d",
   "metadata": {},
   "source": [
    "## Visualizations"
   ]
  },
  {
   "cell_type": "code",
   "execution_count": 24,
   "id": "bce09d2c",
   "metadata": {},
   "outputs": [
    {
     "name": "stderr",
     "output_type": "stream",
     "text": [
      "/Users/oleh.kravchenko/fraud-detection-ML-pipeline/src/model/model.py:123: RuntimeWarning: overflow encountered in exp\n",
      "  return 1 / (1 + np.exp(-x))\n"
     ]
    },
    {
     "data": {
      "image/png": "[encoded data removed]",
      "text/plain": [
       "<Figure size 800x600 with 2 Axes>"
      ]
     },
     "metadata": {},
     "output_type": "display_data"
    },
    {
     "name": "stdout",
     "output_type": "stream",
     "text": [
      "              precision    recall  f1-score   support\n",
      "\n",
      "           0       1.00      1.00      1.00     22143\n",
      "           1       0.00      0.00      0.00        85\n",
      "\n",
      "    accuracy                           1.00     22228\n",
      "   macro avg       0.50      0.50      0.50     22228\n",
      "weighted avg       0.99      1.00      0.99     22228\n",
      "\n"
     ]
    },
    {
     "name": "stderr",
     "output_type": "stream",
     "text": [
      "/Users/oleh.kravchenko/Library/Python/3.11/lib/python/site-packages/sklearn/metrics/_classification.py:1565: UndefinedMetricWarning: Precision is ill-defined and being set to 0.0 in labels with no predicted samples. Use `zero_division` parameter to control this behavior.\n",
      "  _warn_prf(average, modifier, f\"{metric.capitalize()} is\", len(result))\n",
      "/Users/oleh.kravchenko/Library/Python/3.11/lib/python/site-packages/sklearn/metrics/_classification.py:1565: UndefinedMetricWarning: Precision is ill-defined and being set to 0.0 in labels with no predicted samples. Use `zero_division` parameter to control this behavior.\n",
      "  _warn_prf(average, modifier, f\"{metric.capitalize()} is\", len(result))\n",
      "/Users/oleh.kravchenko/Library/Python/3.11/lib/python/site-packages/sklearn/metrics/_classification.py:1565: UndefinedMetricWarning: Precision is ill-defined and being set to 0.0 in labels with no predicted samples. Use `zero_division` parameter to control this behavior.\n",
      "  _warn_prf(average, modifier, f\"{metric.capitalize()} is\", len(result))\n"
     ]
    }
   ],
   "source": [
    "from sklearn.metrics import confusion_matrix, classification_report\n",
    "\n",
    "y_val_pred = []\n",
    "for i in range(len(X_val)):\n",
    "    pred_prob = fd.predict(X_val[i])\n",
    "    pred_class = round(pred_prob)\n",
    "    y_val_pred.append(pred_class)\n",
    "\n",
    "cm = confusion_matrix(y_val, y_val_pred);\n",
    "\n",
    "plt.figure(figsize=(8, 6))\n",
    "sns.heatmap(cm, annot=True, fmt='d', cmap='Blues', \n",
    "            xticklabels=['Not Fraud', 'Fraud'],\n",
    "            yticklabels=['Not Fraud', 'Fraud']);\n",
    "plt.title('Confusion Matrix - Validation Set', fontsize=16)\n",
    "plt.ylabel('True Label', fontsize=14)\n",
    "plt.xlabel('Predicted Label', fontsize=14)\n",
    "plt.tight_layout()\n",
    "plt.show();\n",
    "\n",
    "print(classification_report(y_val, y_val_pred));"
   ]
  },
  {
   "cell_type": "markdown",
   "id": "71eb9afc",
   "metadata": {},
   "source": [
    "<h5>\n",
    "The graph shows that the model correctly identifies 99% of transactions, with only 85 transactions falsely classified as non-fraud\n",
    "</h5>"
   ]
  },
  {
   "cell_type": "code",
   "execution_count": 25,
   "id": "58bf0866",
   "metadata": {},
   "outputs": [
    {
     "name": "stderr",
     "output_type": "stream",
     "text": [
      "/Users/oleh.kravchenko/fraud-detection-ML-pipeline/src/model/model.py:123: RuntimeWarning: overflow encountered in exp\n",
      "  return 1 / (1 + np.exp(-x))\n"
     ]
    },
    {
     "data": {
      "image/png": "[encoded data removed]",
      "text/plain": [
       "<Figure size 1000x600 with 1 Axes>"
      ]
     },
     "metadata": {},
     "output_type": "display_data"
    },
    {
     "data": {
      "image/png": "[encoded data removed]",
      "text/plain": [
       "<Figure size 1000x600 with 1 Axes>"
      ]
     },
     "metadata": {},
     "output_type": "display_data"
    }
   ],
   "source": [
    "from sklearn.metrics import roc_curve, precision_recall_curve, auc, average_precision_score\n",
    "\n",
    "y_val_probs = []\n",
    "for i in range(len(X_val)):\n",
    "    pred_prob = fd.predict(X_val[i])\n",
    "    y_val_probs.append(pred_prob)\n",
    "\n",
    "fpr, tpr, thresholds = roc_curve(y_val, y_val_probs)\n",
    "roc_auc = auc(fpr, tpr)\n",
    "\n",
    "plt.figure(figsize=(10, 6))\n",
    "plt.plot(fpr, tpr, color='darkorange', lw=2, label=f'ROC curve (area = {roc_auc:.4f})')\n",
    "plt.plot([0, 1], [0, 1], color='navy', lw=2, linestyle='--')\n",
    "plt.xlim([0.0, 1.0])\n",
    "plt.ylim([0.0, 1.05])\n",
    "plt.xlabel('False Positive Rate', fontsize=14)\n",
    "plt.ylabel('True Positive Rate', fontsize=14)\n",
    "plt.title('Receiver Operating Characteristic (ROC) Curve', fontsize=16)\n",
    "plt.legend(loc=\"lower right\", fontsize=12)\n",
    "plt.tight_layout()\n",
    "plt.show()\n",
    "\n",
    "precision, recall, _ = precision_recall_curve(y_val, y_val_probs)\n",
    "avg_precision = average_precision_score(y_val, y_val_probs)\n",
    "\n",
    "plt.figure(figsize=(10, 6))\n",
    "plt.plot(recall, precision, color='blue', lw=2, \n",
    "         label=f'Precision-Recall curve (AP = {avg_precision:.4f})')\n",
    "plt.xlabel('Recall', fontsize=14)\n",
    "plt.ylabel('Precision', fontsize=14)\n",
    "plt.ylim([0.0, 1.05])\n",
    "plt.xlim([0.0, 1.0])\n",
    "plt.title('Precision-Recall Curve', fontsize=16)\n",
    "plt.legend(loc=\"lower left\", fontsize=12)\n",
    "plt.tight_layout()\n",
    "plt.show()"
   ]
  },
  {
   "cell_type": "markdown",
   "id": "71643254",
   "metadata": {},
   "source": [
    "## Results and Conclusion\n",
    "\n",
    "The model achieves high accuracy on both validation and test sets, showing it generalizes well to unseen data.\n"
   ]
  },
  {
   "cell_type": "markdown",
   "id": "93a54c70",
   "metadata": {},
   "source": [
    "### Future Improvements\n",
    "- Try different models like neural networks or ensemble methods\n",
    "- Add more feature engineering based on domain knowledge\n"
   ]
  }
 ],
 "metadata": {
  "kernelspec": {
   "display_name": "Python 3",
   "language": "python",
   "name": "python3"
  },
  "language_info": {
   "codemirror_mode": {
    "name": "ipython",
    "version": 3
   },
   "file_extension": ".py",
   "mimetype": "text/x-python",
   "name": "python",
   "nbconvert_exporter": "python",
   "pygments_lexer": "ipython3",
   "version": "3.11.0"
  }
 },
 "nbformat": 4,
 "nbformat_minor": 5
}
